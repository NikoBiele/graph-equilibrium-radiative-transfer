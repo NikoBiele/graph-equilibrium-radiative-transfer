{
 "cells": [
  {
   "cell_type": "code",
   "execution_count": 1,
   "id": "ad165a09",
   "metadata": {},
   "outputs": [],
   "source": [
    "import IJulia\n",
    "import Base64\n",
    "\n",
    "# The julia kernel has built in support for Revise.jl, so this is the \n",
    "# recommended approach for long-running sessions:\n",
    "# https://github.com/JuliaLang/IJulia.jl/blob/9b10fa9b879574bbf720f5285029e07758e50a5e/src/kernel.jl#L46-L51\n",
    "\n",
    "# Users should enable revise within .julia/config/startup_ijulia.jl:\n",
    "# https://timholy.github.io/Revise.jl/stable/config/#Using-Revise-automatically-within-Jupyter/IJulia-1\n",
    "\n",
    "# clear console history\n",
    "IJulia.clear_history()\n",
    "\n",
    "fig_width = 7\n",
    "fig_height = 5\n",
    "fig_format = :retina\n",
    "fig_dpi = 96\n",
    "\n",
    "# no retina format type, use svg for high quality type/marks\n",
    "if fig_format == :retina\n",
    "  fig_format = :svg\n",
    "elseif fig_format == :pdf\n",
    "  fig_dpi = 96\n",
    "  # Enable PDF support for IJulia\n",
    "  IJulia.register_mime(MIME(\"application/pdf\"))\n",
    "end\n",
    "\n",
    "# convert inches to pixels\n",
    "fig_width = fig_width * fig_dpi\n",
    "fig_height = fig_height * fig_dpi\n",
    "\n",
    "# Intialize Plots w/ default fig width/height\n",
    "try\n",
    "  import Plots\n",
    "\n",
    "  # Plots.jl doesn't support PDF output for versions < 1.28.1\n",
    "  # so use png (if the DPI remains the default of 300 then set to 96)\n",
    "  if (Plots._current_plots_version < v\"1.28.1\") & (fig_format == :pdf)\n",
    "    Plots.gr(size=(fig_width, fig_height), fmt = :png, dpi = fig_dpi)\n",
    "  else\n",
    "    Plots.gr(size=(fig_width, fig_height), fmt = fig_format, dpi = fig_dpi)\n",
    "  end\n",
    "catch e\n",
    "  # @warn \"Plots init\" exception=(e, catch_backtrace())\n",
    "end\n",
    "\n",
    "# Initialize CairoMakie with default fig width/height\n",
    "try\n",
    "  import CairoMakie\n",
    "\n",
    "  # CairoMakie's display() in PDF format opens an interactive window\n",
    "  # instead of saving to the ipynb file, so we don't do that.\n",
    "  # https://github.com/quarto-dev/quarto-cli/issues/7548\n",
    "  if fig_format == :pdf\n",
    "    CairoMakie.activate!(type = \"png\")\n",
    "  else\n",
    "    CairoMakie.activate!(type = string(fig_format))\n",
    "  end\n",
    "  CairoMakie.update_theme!(resolution=(fig_width, fig_height))\n",
    "catch e\n",
    "    # @warn \"CairoMakie init\" exception=(e, catch_backtrace())\n",
    "end\n",
    "  \n",
    "# Set run_path if specified\n",
    "try\n",
    "  run_path = \"QzpcVXNlcnNcTmlrb2xhalxEcm9wYm94XEdpdFxncmFwaC1lcXVpbGlicml1bS1yYWRpYXRpdmUtdHJhbnNmZXJcY2hhcHRlcnM=\"\n",
    "  if !isempty(run_path)\n",
    "    run_path = String(Base64.base64decode(run_path))\n",
    "    cd(run_path)\n",
    "  end\n",
    "catch e\n",
    "  @warn \"Run path init:\" exception=(e, catch_backtrace())\n",
    "end\n",
    "\n",
    "\n",
    "# emulate old Pkg.installed beahvior, see\n",
    "# https://discourse.julialang.org/t/how-to-use-pkg-dependencies-instead-of-pkg-installed/36416/9\n",
    "import Pkg\n",
    "function isinstalled(pkg::String)\n",
    "  any(x -> x.name == pkg && x.is_direct_dep, values(Pkg.dependencies()))\n",
    "end\n",
    "\n",
    "# ojs_define\n",
    "if isinstalled(\"JSON\") && isinstalled(\"DataFrames\")\n",
    "  import JSON, DataFrames\n",
    "  global function ojs_define(; kwargs...)\n",
    "    convert(x) = x\n",
    "    convert(x::DataFrames.AbstractDataFrame) = Tables.rows(x)\n",
    "    content = Dict(\"contents\" => [Dict(\"name\" => k, \"value\" => convert(v)) for (k, v) in kwargs])\n",
    "    tag = \"<script type='ojs-define'>$(JSON.json(content))</script>\"\n",
    "    IJulia.display(MIME(\"text/html\"), tag)\n",
    "  end\n",
    "elseif isinstalled(\"JSON\")\n",
    "  import JSON\n",
    "  global function ojs_define(; kwargs...)\n",
    "    content = Dict(\"contents\" => [Dict(\"name\" => k, \"value\" => v) for (k, v) in kwargs])\n",
    "    tag = \"<script type='ojs-define'>$(JSON.json(content))</script>\"\n",
    "    IJulia.display(MIME(\"text/html\"), tag)\n",
    "  end\n",
    "else\n",
    "  global function ojs_define(; kwargs...)\n",
    "    @warn \"JSON package not available. Please install the JSON.jl package to use ojs_define.\"\n",
    "  end\n",
    "end\n",
    "\n",
    "\n",
    "# don't return kernel dependencies (b/c Revise should take care of dependencies)\n",
    "nothing\n"
   ]
  },
  {
   "cell_type": "code",
   "execution_count": 2,
   "id": "env",
   "metadata": {},
   "outputs": [
    {
     "name": "stderr",
     "output_type": "stream",
     "text": [
      "\u001b[32m\u001b[1m  Activating\u001b[22m\u001b[39m project at `C:\\Users\\Nikolaj\\Dropbox\\Git\\graph-equilibrium-radiative-transfer`\n"
     ]
    },
    {
     "name": "stderr",
     "output_type": "stream",
     "text": [
      "\u001b[32m\u001b[1m    Updating\u001b[22m\u001b[39m git-repo `https://github.com/NikoBiele/RayTraceHeatTransfer.jl`\n"
     ]
    },
    {
     "name": "stderr",
     "output_type": "stream",
     "text": [
      "\u001b[32m\u001b[1m   Resolving\u001b[22m\u001b[39m package versions...\n"
     ]
    },
    {
     "name": "stderr",
     "output_type": "stream",
     "text": [
      "\u001b[32m\u001b[1m  No Changes\u001b[22m\u001b[39m to `C:\\Users\\Nikolaj\\Dropbox\\Git\\graph-equilibrium-radiative-transfer\\Project.toml`\n",
      "\u001b[32m\u001b[1m  No Changes\u001b[22m\u001b[39m to `C:\\Users\\Nikolaj\\Dropbox\\Git\\graph-equilibrium-radiative-transfer\\Manifest.toml`\n"
     ]
    }
   ],
   "source": [
    "#| label: env\n",
    "#| include: false\n",
    "\n",
    "import Pkg\n",
    "\n",
    "# Activate the book project\n",
    "Pkg.activate(abspath(joinpath(@__DIR__, \"..\")))  # adjust if your cell lives deeper\n",
    "\n",
    "if get(ENV, \"CI\", \"false\") == \"true\"\n",
    "    # --- CI on GitHub Pages: use newest *registered* version within [compat] ---\n",
    "    # Keep RayTraceHeatTransfer in [deps] with a [compat] like: RayTraceHeatTransfer = \"0.3\"\n",
    "    Pkg.instantiate()\n",
    "    Pkg.update(\"RayTraceHeatTransfer\")   # float to latest allowed version\n",
    "else\n",
    "    # --- Local dev: always track the latest main branch ---\n",
    "    url = \"https://github.com/NikoBiele/RayTraceHeatTransfer.jl\"\n",
    "    try\n",
    "        Pkg.rm(\"RayTraceHeatTransfer\"; force=true)\n",
    "    catch\n",
    "    end\n",
    "    Pkg.add(Pkg.PackageSpec(name=\"RayTraceHeatTransfer\", url=url, rev=\"main\"))\n",
    "    Pkg.instantiate()\n",
    "end\n",
    "\n",
    "using CairoMakie\n",
    "CairoMakie.activate!()\n",
    "Makie.inline!(true)\n",
    "\n",
    "using RayTraceHeatTransfer\n"
   ]
  },
  {
   "cell_type": "code",
   "execution_count": 3,
   "id": "1b22c23d",
   "metadata": {},
   "outputs": [
    {
     "data": {
      "text/plain": [
       "4-element SVector{4, Point{2, Float64}} with indices SOneTo(4):\n",
       " [0.0, 0.0]\n",
       " [1.0, 0.0]\n",
       " [1.0, 1.0]\n",
       " [0.0, 1.0]"
      ]
     },
     "execution_count": 3,
     "metadata": {},
     "output_type": "execute_result"
    }
   ],
   "source": [
    "using RayTraceHeatTransfer\n",
    "using StaticArrays\n",
    "using GeometryBasics\n",
    "# build the geometric quadrilateral face (4 points)\n",
    "faces_1 = RayTraceHeatTransfer.PolyFace2D{Float64,Float64}[]\n",
    "vertices1 = SVector(\n",
    "    Point2(0.0, 0.0),\n",
    "    Point2(1.0, 0.0),\n",
    "    Point2(1.0, 1.0),\n",
    "    Point2(0.0, 1.0),\n",
    ")"
   ]
  },
  {
   "cell_type": "code",
   "execution_count": 4,
   "id": "9dbc77a7",
   "metadata": {},
   "outputs": [
    {
     "data": {
      "text/plain": [
       "1-element Vector{PolyFace2D{Float64, Float64}}:\n",
       " PolyFace2D{Float64, Float64}(Point{2, Float64}[[0.0, 0.0], [1.0, 0.0], [1.0, 1.0], [0.0, 1.0]], Bool[1, 1, 1, 1], [0.5, 0.5], Point{2, Float64}[[0.5, 0.0], [1.0, 0.5], [0.5, 1.0], [0.0, 0.5]], Point{2, Float64}[[0.0, -1.0], [1.0, -0.0], [0.0, 1.0], [-1.0, -0.0]], 1.0, [1.0, 1.0, 1.0, 1.0], PolyFace2D{Float64, Float64}[], [1.0, 1.0, 1.0, 1.0], 0.0, 0.0, 0.0, 0.0, 0.0, 0.0, 0.0, 0.0, -1.0, 0.0, [0.0, 0.0, 0.0, 0.0], [0.0, 0.0, 0.0, 0.0], [0.0, 0.0, 0.0, 0.0], [0.0, 0.0, 0.0, 0.0], [0.0, 0.0, 0.0, 0.0], [0.0, 0.0, 0.0, 0.0], [0.0, 0.0, 0.0, 0.0], [0.0, 0.0, 0.0, 0.0], [1000.0, 0.0, 0.0, 0.0], [0.0, 0.0, 0.0, 0.0])"
      ]
     },
     "execution_count": 4,
     "metadata": {},
     "output_type": "execute_result"
    }
   ],
   "source": [
    "solidWall1 = SVector(true, true, true, true) # all walls are impenetrable\n",
    "face1 = RayTraceHeatTransfer.PolyFace2D{Float64,Float64}(vertices1, solidWall1)\n",
    "\n",
    "# set the physical properties and state\n",
    "face1.T_in_w = [1000.0, 0.0, 0.0, 0.0] # known wall temperatures\n",
    "face1.q_in_w = [0.0, 0.0, 0.0, 0.0] # wall fluxes not used when temperature is specified\n",
    "face1.T_in_g = -1.0 # unknown gas temperature\n",
    "face1.q_in_g = 0.0 # known gas flux (radiative equilibrium)\n",
    "face1.epsilon = [1.0, 1.0, 1.0, 1.0] # wall emissivities\n",
    "push!(faces_1, face1)"
   ]
  },
  {
   "cell_type": "code",
   "execution_count": 5,
   "id": "4a5f7a71",
   "metadata": {},
   "outputs": [
    {
     "name": "stdout",
     "output_type": "stream",
     "text": [
      "Building optimized cache structures...\n",
      "Pre-computing coarse mesh geometry...\n",
      "Pre-computing fine mesh geometry...\n",
      "Optimization cache built successfully!\n"
     ]
    },
    {
     "name": "stdout",
     "output_type": "stream",
     "text": [
      "Building spatial acceleration structures...\n",
      "  Building coarse mesh acceleration...\n",
      "  Building fine mesh acceleration...\n",
      "Spatial acceleration structures built!\n"
     ]
    }
   ],
   "source": [
    "Ndim = 15 # splits in (x,y) directions\n",
    "mesh1 = RayTraceHeatTransfer.RayTracingMeshOptim(faces_1, [(Ndim,Ndim)]);"
   ]
  }
 ],
 "metadata": {
  "kernelspec": {
   "display_name": "Julia 1.11.6",
   "language": "julia",
   "name": "julia-1.11",
   "path": "C:\\Users\\Nikolaj\\AppData\\Roaming\\jupyter\\kernels\\julia-1.11"
  },
  "language_info": {
   "file_extension": ".jl",
   "mimetype": "application/julia",
   "name": "julia",
   "version": "1.11.6"
  }
 },
 "nbformat": 4,
 "nbformat_minor": 5
}